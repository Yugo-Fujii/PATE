{
  "nbformat": 4,
  "nbformat_minor": 0,
  "metadata": {
    "colab": {
      "name": "PATE-Practice2022130.ipynb",
      "provenance": [],
      "collapsed_sections": []
    },
    "kernelspec": {
      "name": "python3",
      "display_name": "Python 3"
    },
    "language_info": {
      "name": "python"
    },
    "accelerator": "GPU",
    "widgets": {
      "application/vnd.jupyter.widget-state+json": {
        "6f0c62ae51a443d484f27982982e8b69": {
          "model_module": "@jupyter-widgets/controls",
          "model_name": "HBoxModel",
          "model_module_version": "1.5.0",
          "state": {
            "_view_name": "HBoxView",
            "_dom_classes": [],
            "_model_name": "HBoxModel",
            "_view_module": "@jupyter-widgets/controls",
            "_model_module_version": "1.5.0",
            "_view_count": null,
            "_view_module_version": "1.5.0",
            "box_style": "",
            "layout": "IPY_MODEL_0aceae81533547b0a2daecfaba464d04",
            "_model_module": "@jupyter-widgets/controls",
            "children": [
              "IPY_MODEL_f7e092d4c75f444e8116b4fa1167f846",
              "IPY_MODEL_8f29f217364e434ea78670ee630c956a",
              "IPY_MODEL_5f7f7e5e159c483b902806696a676a28"
            ]
          }
        },
        "0aceae81533547b0a2daecfaba464d04": {
          "model_module": "@jupyter-widgets/base",
          "model_name": "LayoutModel",
          "model_module_version": "1.2.0",
          "state": {
            "_view_name": "LayoutView",
            "grid_template_rows": null,
            "right": null,
            "justify_content": null,
            "_view_module": "@jupyter-widgets/base",
            "overflow": null,
            "_model_module_version": "1.2.0",
            "_view_count": null,
            "flex_flow": null,
            "width": null,
            "min_width": null,
            "border": null,
            "align_items": null,
            "bottom": null,
            "_model_module": "@jupyter-widgets/base",
            "top": null,
            "grid_column": null,
            "overflow_y": null,
            "overflow_x": null,
            "grid_auto_flow": null,
            "grid_area": null,
            "grid_template_columns": null,
            "flex": null,
            "_model_name": "LayoutModel",
            "justify_items": null,
            "grid_row": null,
            "max_height": null,
            "align_content": null,
            "visibility": null,
            "align_self": null,
            "height": null,
            "min_height": null,
            "padding": null,
            "grid_auto_rows": null,
            "grid_gap": null,
            "max_width": null,
            "order": null,
            "_view_module_version": "1.2.0",
            "grid_template_areas": null,
            "object_position": null,
            "object_fit": null,
            "grid_auto_columns": null,
            "margin": null,
            "display": null,
            "left": null
          }
        },
        "f7e092d4c75f444e8116b4fa1167f846": {
          "model_module": "@jupyter-widgets/controls",
          "model_name": "HTMLModel",
          "model_module_version": "1.5.0",
          "state": {
            "_view_name": "HTMLView",
            "style": "IPY_MODEL_e4ac0278ffd34b0fadc41a4f3372e842",
            "_dom_classes": [],
            "description": "",
            "_model_name": "HTMLModel",
            "placeholder": "​",
            "_view_module": "@jupyter-widgets/controls",
            "_model_module_version": "1.5.0",
            "value": "",
            "_view_count": null,
            "_view_module_version": "1.5.0",
            "description_tooltip": null,
            "_model_module": "@jupyter-widgets/controls",
            "layout": "IPY_MODEL_47ef6eeeccd1453e913f1806c644574a"
          }
        },
        "8f29f217364e434ea78670ee630c956a": {
          "model_module": "@jupyter-widgets/controls",
          "model_name": "FloatProgressModel",
          "model_module_version": "1.5.0",
          "state": {
            "_view_name": "ProgressView",
            "style": "IPY_MODEL_c776b5b3ff0a45e69ecc171361135e87",
            "_dom_classes": [],
            "description": "",
            "_model_name": "FloatProgressModel",
            "bar_style": "success",
            "max": 182040794,
            "_view_module": "@jupyter-widgets/controls",
            "_model_module_version": "1.5.0",
            "value": 182040794,
            "_view_count": null,
            "_view_module_version": "1.5.0",
            "orientation": "horizontal",
            "min": 0,
            "description_tooltip": null,
            "_model_module": "@jupyter-widgets/controls",
            "layout": "IPY_MODEL_5ed5399ad75c4d2d8089f1155f7abd6d"
          }
        },
        "5f7f7e5e159c483b902806696a676a28": {
          "model_module": "@jupyter-widgets/controls",
          "model_name": "HTMLModel",
          "model_module_version": "1.5.0",
          "state": {
            "_view_name": "HTMLView",
            "style": "IPY_MODEL_9e94be71ad5f4338a73c5f18f5ee83f5",
            "_dom_classes": [],
            "description": "",
            "_model_name": "HTMLModel",
            "placeholder": "​",
            "_view_module": "@jupyter-widgets/controls",
            "_model_module_version": "1.5.0",
            "value": " 182041600/? [00:07&lt;00:00, 35774529.59it/s]",
            "_view_count": null,
            "_view_module_version": "1.5.0",
            "description_tooltip": null,
            "_model_module": "@jupyter-widgets/controls",
            "layout": "IPY_MODEL_408da8595692447682fd13f5b8dbfdda"
          }
        },
        "e4ac0278ffd34b0fadc41a4f3372e842": {
          "model_module": "@jupyter-widgets/controls",
          "model_name": "DescriptionStyleModel",
          "model_module_version": "1.5.0",
          "state": {
            "_view_name": "StyleView",
            "_model_name": "DescriptionStyleModel",
            "description_width": "",
            "_view_module": "@jupyter-widgets/base",
            "_model_module_version": "1.5.0",
            "_view_count": null,
            "_view_module_version": "1.2.0",
            "_model_module": "@jupyter-widgets/controls"
          }
        },
        "47ef6eeeccd1453e913f1806c644574a": {
          "model_module": "@jupyter-widgets/base",
          "model_name": "LayoutModel",
          "model_module_version": "1.2.0",
          "state": {
            "_view_name": "LayoutView",
            "grid_template_rows": null,
            "right": null,
            "justify_content": null,
            "_view_module": "@jupyter-widgets/base",
            "overflow": null,
            "_model_module_version": "1.2.0",
            "_view_count": null,
            "flex_flow": null,
            "width": null,
            "min_width": null,
            "border": null,
            "align_items": null,
            "bottom": null,
            "_model_module": "@jupyter-widgets/base",
            "top": null,
            "grid_column": null,
            "overflow_y": null,
            "overflow_x": null,
            "grid_auto_flow": null,
            "grid_area": null,
            "grid_template_columns": null,
            "flex": null,
            "_model_name": "LayoutModel",
            "justify_items": null,
            "grid_row": null,
            "max_height": null,
            "align_content": null,
            "visibility": null,
            "align_self": null,
            "height": null,
            "min_height": null,
            "padding": null,
            "grid_auto_rows": null,
            "grid_gap": null,
            "max_width": null,
            "order": null,
            "_view_module_version": "1.2.0",
            "grid_template_areas": null,
            "object_position": null,
            "object_fit": null,
            "grid_auto_columns": null,
            "margin": null,
            "display": null,
            "left": null
          }
        },
        "c776b5b3ff0a45e69ecc171361135e87": {
          "model_module": "@jupyter-widgets/controls",
          "model_name": "ProgressStyleModel",
          "model_module_version": "1.5.0",
          "state": {
            "_view_name": "StyleView",
            "_model_name": "ProgressStyleModel",
            "description_width": "",
            "_view_module": "@jupyter-widgets/base",
            "_model_module_version": "1.5.0",
            "_view_count": null,
            "_view_module_version": "1.2.0",
            "bar_color": null,
            "_model_module": "@jupyter-widgets/controls"
          }
        },
        "5ed5399ad75c4d2d8089f1155f7abd6d": {
          "model_module": "@jupyter-widgets/base",
          "model_name": "LayoutModel",
          "model_module_version": "1.2.0",
          "state": {
            "_view_name": "LayoutView",
            "grid_template_rows": null,
            "right": null,
            "justify_content": null,
            "_view_module": "@jupyter-widgets/base",
            "overflow": null,
            "_model_module_version": "1.2.0",
            "_view_count": null,
            "flex_flow": null,
            "width": null,
            "min_width": null,
            "border": null,
            "align_items": null,
            "bottom": null,
            "_model_module": "@jupyter-widgets/base",
            "top": null,
            "grid_column": null,
            "overflow_y": null,
            "overflow_x": null,
            "grid_auto_flow": null,
            "grid_area": null,
            "grid_template_columns": null,
            "flex": null,
            "_model_name": "LayoutModel",
            "justify_items": null,
            "grid_row": null,
            "max_height": null,
            "align_content": null,
            "visibility": null,
            "align_self": null,
            "height": null,
            "min_height": null,
            "padding": null,
            "grid_auto_rows": null,
            "grid_gap": null,
            "max_width": null,
            "order": null,
            "_view_module_version": "1.2.0",
            "grid_template_areas": null,
            "object_position": null,
            "object_fit": null,
            "grid_auto_columns": null,
            "margin": null,
            "display": null,
            "left": null
          }
        },
        "9e94be71ad5f4338a73c5f18f5ee83f5": {
          "model_module": "@jupyter-widgets/controls",
          "model_name": "DescriptionStyleModel",
          "model_module_version": "1.5.0",
          "state": {
            "_view_name": "StyleView",
            "_model_name": "DescriptionStyleModel",
            "description_width": "",
            "_view_module": "@jupyter-widgets/base",
            "_model_module_version": "1.5.0",
            "_view_count": null,
            "_view_module_version": "1.2.0",
            "_model_module": "@jupyter-widgets/controls"
          }
        },
        "408da8595692447682fd13f5b8dbfdda": {
          "model_module": "@jupyter-widgets/base",
          "model_name": "LayoutModel",
          "model_module_version": "1.2.0",
          "state": {
            "_view_name": "LayoutView",
            "grid_template_rows": null,
            "right": null,
            "justify_content": null,
            "_view_module": "@jupyter-widgets/base",
            "overflow": null,
            "_model_module_version": "1.2.0",
            "_view_count": null,
            "flex_flow": null,
            "width": null,
            "min_width": null,
            "border": null,
            "align_items": null,
            "bottom": null,
            "_model_module": "@jupyter-widgets/base",
            "top": null,
            "grid_column": null,
            "overflow_y": null,
            "overflow_x": null,
            "grid_auto_flow": null,
            "grid_area": null,
            "grid_template_columns": null,
            "flex": null,
            "_model_name": "LayoutModel",
            "justify_items": null,
            "grid_row": null,
            "max_height": null,
            "align_content": null,
            "visibility": null,
            "align_self": null,
            "height": null,
            "min_height": null,
            "padding": null,
            "grid_auto_rows": null,
            "grid_gap": null,
            "max_width": null,
            "order": null,
            "_view_module_version": "1.2.0",
            "grid_template_areas": null,
            "object_position": null,
            "object_fit": null,
            "grid_auto_columns": null,
            "margin": null,
            "display": null,
            "left": null
          }
        },
        "6b1a0b7957cb433cb4f523ff34b1b227": {
          "model_module": "@jupyter-widgets/controls",
          "model_name": "HBoxModel",
          "model_module_version": "1.5.0",
          "state": {
            "_view_name": "HBoxView",
            "_dom_classes": [],
            "_model_name": "HBoxModel",
            "_view_module": "@jupyter-widgets/controls",
            "_model_module_version": "1.5.0",
            "_view_count": null,
            "_view_module_version": "1.5.0",
            "box_style": "",
            "layout": "IPY_MODEL_807592ca541047988216f8ee71c6d100",
            "_model_module": "@jupyter-widgets/controls",
            "children": [
              "IPY_MODEL_d2648980a1554a46a09ad5dc1ee6f52f",
              "IPY_MODEL_9d23bcbab6ca407dba444d8e36f5cd80",
              "IPY_MODEL_b1d82b52d9d04baf8b1eb4ce97abc798"
            ]
          }
        },
        "807592ca541047988216f8ee71c6d100": {
          "model_module": "@jupyter-widgets/base",
          "model_name": "LayoutModel",
          "model_module_version": "1.2.0",
          "state": {
            "_view_name": "LayoutView",
            "grid_template_rows": null,
            "right": null,
            "justify_content": null,
            "_view_module": "@jupyter-widgets/base",
            "overflow": null,
            "_model_module_version": "1.2.0",
            "_view_count": null,
            "flex_flow": null,
            "width": null,
            "min_width": null,
            "border": null,
            "align_items": null,
            "bottom": null,
            "_model_module": "@jupyter-widgets/base",
            "top": null,
            "grid_column": null,
            "overflow_y": null,
            "overflow_x": null,
            "grid_auto_flow": null,
            "grid_area": null,
            "grid_template_columns": null,
            "flex": null,
            "_model_name": "LayoutModel",
            "justify_items": null,
            "grid_row": null,
            "max_height": null,
            "align_content": null,
            "visibility": null,
            "align_self": null,
            "height": null,
            "min_height": null,
            "padding": null,
            "grid_auto_rows": null,
            "grid_gap": null,
            "max_width": null,
            "order": null,
            "_view_module_version": "1.2.0",
            "grid_template_areas": null,
            "object_position": null,
            "object_fit": null,
            "grid_auto_columns": null,
            "margin": null,
            "display": null,
            "left": null
          }
        },
        "d2648980a1554a46a09ad5dc1ee6f52f": {
          "model_module": "@jupyter-widgets/controls",
          "model_name": "HTMLModel",
          "model_module_version": "1.5.0",
          "state": {
            "_view_name": "HTMLView",
            "style": "IPY_MODEL_10c420fa62104cbf82be550c231cda3f",
            "_dom_classes": [],
            "description": "",
            "_model_name": "HTMLModel",
            "placeholder": "​",
            "_view_module": "@jupyter-widgets/controls",
            "_model_module_version": "1.5.0",
            "value": "",
            "_view_count": null,
            "_view_module_version": "1.5.0",
            "description_tooltip": null,
            "_model_module": "@jupyter-widgets/controls",
            "layout": "IPY_MODEL_3a8389284358407e9e5eb12b490aa9fd"
          }
        },
        "9d23bcbab6ca407dba444d8e36f5cd80": {
          "model_module": "@jupyter-widgets/controls",
          "model_name": "FloatProgressModel",
          "model_module_version": "1.5.0",
          "state": {
            "_view_name": "ProgressView",
            "style": "IPY_MODEL_44dfe2e934e441da813d2d1083b233e3",
            "_dom_classes": [],
            "description": "",
            "_model_name": "FloatProgressModel",
            "bar_style": "success",
            "max": 64275384,
            "_view_module": "@jupyter-widgets/controls",
            "_model_module_version": "1.5.0",
            "value": 64275384,
            "_view_count": null,
            "_view_module_version": "1.5.0",
            "orientation": "horizontal",
            "min": 0,
            "description_tooltip": null,
            "_model_module": "@jupyter-widgets/controls",
            "layout": "IPY_MODEL_1be918487ed5400fb5f2e2de4952a169"
          }
        },
        "b1d82b52d9d04baf8b1eb4ce97abc798": {
          "model_module": "@jupyter-widgets/controls",
          "model_name": "HTMLModel",
          "model_module_version": "1.5.0",
          "state": {
            "_view_name": "HTMLView",
            "style": "IPY_MODEL_e29904a41d3f427cbcf7281072391f02",
            "_dom_classes": [],
            "description": "",
            "_model_name": "HTMLModel",
            "placeholder": "​",
            "_view_module": "@jupyter-widgets/controls",
            "_model_module_version": "1.5.0",
            "value": " 64275456/? [00:02&lt;00:00, 50508901.89it/s]",
            "_view_count": null,
            "_view_module_version": "1.5.0",
            "description_tooltip": null,
            "_model_module": "@jupyter-widgets/controls",
            "layout": "IPY_MODEL_53f648c661564c2ba3baaf8af7398f1a"
          }
        },
        "10c420fa62104cbf82be550c231cda3f": {
          "model_module": "@jupyter-widgets/controls",
          "model_name": "DescriptionStyleModel",
          "model_module_version": "1.5.0",
          "state": {
            "_view_name": "StyleView",
            "_model_name": "DescriptionStyleModel",
            "description_width": "",
            "_view_module": "@jupyter-widgets/base",
            "_model_module_version": "1.5.0",
            "_view_count": null,
            "_view_module_version": "1.2.0",
            "_model_module": "@jupyter-widgets/controls"
          }
        },
        "3a8389284358407e9e5eb12b490aa9fd": {
          "model_module": "@jupyter-widgets/base",
          "model_name": "LayoutModel",
          "model_module_version": "1.2.0",
          "state": {
            "_view_name": "LayoutView",
            "grid_template_rows": null,
            "right": null,
            "justify_content": null,
            "_view_module": "@jupyter-widgets/base",
            "overflow": null,
            "_model_module_version": "1.2.0",
            "_view_count": null,
            "flex_flow": null,
            "width": null,
            "min_width": null,
            "border": null,
            "align_items": null,
            "bottom": null,
            "_model_module": "@jupyter-widgets/base",
            "top": null,
            "grid_column": null,
            "overflow_y": null,
            "overflow_x": null,
            "grid_auto_flow": null,
            "grid_area": null,
            "grid_template_columns": null,
            "flex": null,
            "_model_name": "LayoutModel",
            "justify_items": null,
            "grid_row": null,
            "max_height": null,
            "align_content": null,
            "visibility": null,
            "align_self": null,
            "height": null,
            "min_height": null,
            "padding": null,
            "grid_auto_rows": null,
            "grid_gap": null,
            "max_width": null,
            "order": null,
            "_view_module_version": "1.2.0",
            "grid_template_areas": null,
            "object_position": null,
            "object_fit": null,
            "grid_auto_columns": null,
            "margin": null,
            "display": null,
            "left": null
          }
        },
        "44dfe2e934e441da813d2d1083b233e3": {
          "model_module": "@jupyter-widgets/controls",
          "model_name": "ProgressStyleModel",
          "model_module_version": "1.5.0",
          "state": {
            "_view_name": "StyleView",
            "_model_name": "ProgressStyleModel",
            "description_width": "",
            "_view_module": "@jupyter-widgets/base",
            "_model_module_version": "1.5.0",
            "_view_count": null,
            "_view_module_version": "1.2.0",
            "bar_color": null,
            "_model_module": "@jupyter-widgets/controls"
          }
        },
        "1be918487ed5400fb5f2e2de4952a169": {
          "model_module": "@jupyter-widgets/base",
          "model_name": "LayoutModel",
          "model_module_version": "1.2.0",
          "state": {
            "_view_name": "LayoutView",
            "grid_template_rows": null,
            "right": null,
            "justify_content": null,
            "_view_module": "@jupyter-widgets/base",
            "overflow": null,
            "_model_module_version": "1.2.0",
            "_view_count": null,
            "flex_flow": null,
            "width": null,
            "min_width": null,
            "border": null,
            "align_items": null,
            "bottom": null,
            "_model_module": "@jupyter-widgets/base",
            "top": null,
            "grid_column": null,
            "overflow_y": null,
            "overflow_x": null,
            "grid_auto_flow": null,
            "grid_area": null,
            "grid_template_columns": null,
            "flex": null,
            "_model_name": "LayoutModel",
            "justify_items": null,
            "grid_row": null,
            "max_height": null,
            "align_content": null,
            "visibility": null,
            "align_self": null,
            "height": null,
            "min_height": null,
            "padding": null,
            "grid_auto_rows": null,
            "grid_gap": null,
            "max_width": null,
            "order": null,
            "_view_module_version": "1.2.0",
            "grid_template_areas": null,
            "object_position": null,
            "object_fit": null,
            "grid_auto_columns": null,
            "margin": null,
            "display": null,
            "left": null
          }
        },
        "e29904a41d3f427cbcf7281072391f02": {
          "model_module": "@jupyter-widgets/controls",
          "model_name": "DescriptionStyleModel",
          "model_module_version": "1.5.0",
          "state": {
            "_view_name": "StyleView",
            "_model_name": "DescriptionStyleModel",
            "description_width": "",
            "_view_module": "@jupyter-widgets/base",
            "_model_module_version": "1.5.0",
            "_view_count": null,
            "_view_module_version": "1.2.0",
            "_model_module": "@jupyter-widgets/controls"
          }
        },
        "53f648c661564c2ba3baaf8af7398f1a": {
          "model_module": "@jupyter-widgets/base",
          "model_name": "LayoutModel",
          "model_module_version": "1.2.0",
          "state": {
            "_view_name": "LayoutView",
            "grid_template_rows": null,
            "right": null,
            "justify_content": null,
            "_view_module": "@jupyter-widgets/base",
            "overflow": null,
            "_model_module_version": "1.2.0",
            "_view_count": null,
            "flex_flow": null,
            "width": null,
            "min_width": null,
            "border": null,
            "align_items": null,
            "bottom": null,
            "_model_module": "@jupyter-widgets/base",
            "top": null,
            "grid_column": null,
            "overflow_y": null,
            "overflow_x": null,
            "grid_auto_flow": null,
            "grid_area": null,
            "grid_template_columns": null,
            "flex": null,
            "_model_name": "LayoutModel",
            "justify_items": null,
            "grid_row": null,
            "max_height": null,
            "align_content": null,
            "visibility": null,
            "align_self": null,
            "height": null,
            "min_height": null,
            "padding": null,
            "grid_auto_rows": null,
            "grid_gap": null,
            "max_width": null,
            "order": null,
            "_view_module_version": "1.2.0",
            "grid_template_areas": null,
            "object_position": null,
            "object_fit": null,
            "grid_auto_columns": null,
            "margin": null,
            "display": null,
            "left": null
          }
        }
      }
    }
  },
  "cells": [
    {
      "cell_type": "code",
      "execution_count": null,
      "metadata": {
        "id": "4KDyppqYi5QW",
        "colab": {
          "base_uri": "https://localhost:8080/"
        },
        "outputId": "86c3b1a8-ff94-4715-a39c-18b8489f9a8a"
      },
      "outputs": [
        {
          "output_type": "stream",
          "name": "stdout",
          "text": [
            "\u001b[K     |████████████████████████████████| 606 kB 5.4 MB/s \n",
            "\u001b[K     |████████████████████████████████| 288 kB 46.5 MB/s \n",
            "\u001b[K     |████████████████████████████████| 54 kB 2.5 MB/s \n",
            "\u001b[K     |████████████████████████████████| 5.8 MB 41.5 MB/s \n",
            "\u001b[K     |████████████████████████████████| 6.2 MB 37.3 MB/s \n",
            "\u001b[K     |████████████████████████████████| 62 kB 794 kB/s \n",
            "\u001b[K     |████████████████████████████████| 1.1 MB 42.8 MB/s \n",
            "\u001b[K     |████████████████████████████████| 25.5 MB 1.6 MB/s \n",
            "\u001b[K     |████████████████████████████████| 57 kB 5.0 MB/s \n",
            "\u001b[K     |████████████████████████████████| 961 kB 44.0 MB/s \n",
            "\u001b[K     |████████████████████████████████| 15.7 MB 36.9 MB/s \n",
            "\u001b[K     |████████████████████████████████| 61 kB 399 kB/s \n",
            "\u001b[K     |████████████████████████████████| 789 kB 45.3 MB/s \n",
            "\u001b[K     |████████████████████████████████| 43 kB 2.1 MB/s \n",
            "\u001b[K     |████████████████████████████████| 84 kB 2.7 MB/s \n",
            "\u001b[K     |████████████████████████████████| 1.6 MB 42.0 MB/s \n",
            "\u001b[K     |████████████████████████████████| 10.1 MB 39.2 MB/s \n",
            "\u001b[K     |████████████████████████████████| 11.3 MB 35.4 MB/s \n",
            "\u001b[K     |████████████████████████████████| 40 kB 5.2 MB/s \n",
            "\u001b[K     |████████████████████████████████| 251 kB 30.4 MB/s \n",
            "\u001b[K     |████████████████████████████████| 67 kB 5.3 MB/s \n",
            "\u001b[K     |████████████████████████████████| 66 kB 4.3 MB/s \n",
            "\u001b[K     |████████████████████████████████| 266 kB 45.0 MB/s \n",
            "\u001b[?25h  Building wheel for autodp (setup.py) ... \u001b[?25l\u001b[?25hdone\n",
            "  Building wheel for forbiddenfruit (setup.py) ... \u001b[?25l\u001b[?25hdone\n",
            "  Building wheel for names (setup.py) ... \u001b[?25l\u001b[?25hdone\n",
            "  Building wheel for pymbolic (setup.py) ... \u001b[?25l\u001b[?25hdone\n",
            "  Building wheel for pytools (setup.py) ... \u001b[?25l\u001b[?25hdone\n",
            "\u001b[31mERROR: pip's dependency resolver does not currently take into account all the packages that are installed. This behaviour is the source of the following dependency conflicts.\n",
            "yellowbrick 1.3.post1 requires numpy<1.20,>=1.16.0, but you have numpy 1.21.4 which is incompatible.\n",
            "google-colab 1.0.0 requires pandas~=1.1.0; python_version >= \"3.0\", but you have pandas 1.3.4 which is incompatible.\n",
            "google-colab 1.0.0 requires requests~=2.23.0, but you have requests 2.26.0 which is incompatible.\n",
            "flask 1.1.4 requires Werkzeug<2.0,>=0.15, but you have werkzeug 2.0.2 which is incompatible.\n",
            "datascience 0.10.6 requires folium==0.2.1, but you have folium 0.8.3 which is incompatible.\n",
            "arviz 0.11.4 requires typing-extensions<4,>=3.7.4.3, but you have typing-extensions 4.0.0 which is incompatible.\n",
            "albumentations 0.1.12 requires imgaug<0.2.7,>=0.2.5, but you have imgaug 0.2.9 which is incompatible.\u001b[0m\n"
          ]
        }
      ],
      "source": [
        "!pip install --quiet syft"
      ]
    },
    {
      "cell_type": "code",
      "source": [
        "# データのロード\n",
        "# Load the SVHN data set\n",
        "# SVHNからデータを読み込む\n",
        "import torch\n",
        "import numpy as np\n",
        "from torchvision import datasets, transforms\n",
        "from torch.utils.data import Subset\n",
        "\n",
        "# 画像変換\n",
        "# 1.Totenser関数でテンソル化\n",
        "# 2.Normalise関数（平均、標準偏差）で前処理、torchvisionsの場合\n",
        "transform = transforms.Compose([transforms.ToTensor(),\n",
        "                                transforms.Normalize((0.5,), (0.5,))])\n",
        "# 訓練SVHN（数字）データセット（デイレクトリ、訓練用画像とラベル、画像をテンソル化し返す、なし、ダウンロード）\n",
        "train_data = datasets.SVHN('datasets/SVHN/train/', split='train', transform=transform,\n",
        "                                 target_transform=None, download=True)\n",
        "# テストSVHN\n",
        "test_data = datasets.SVHN('datasets/SVHN/test/', split='test', transform=transform,\n",
        "                               target_transform=None, download=True)\n",
        "\n",
        "# 教師の数\n",
        "num_teachers = 10\n",
        "\n",
        "# 悪い教師の数\n",
        "num_malicious = 4 ## いろいろ試す\n",
        "\n",
        "# 1バッチに含まれるデータ数\n",
        "batch_size = 64\n",
        "\n",
        "\n",
        "# get_data_loders関数（訓練用データセット、教師の数）\n",
        "def get_data_loaders(train_data, num_teachers):\n",
        "    # 教師分類器用のデータローダー作成関数 \n",
        "    \"\"\" Function to create data loaders for the Teacher classifier \"\"\"\n",
        "    # teacher_loders空リストの作成\n",
        "    teacher_loaders = []\n",
        "    # 教師あたりの訓練用データの総数知りたい\n",
        "    data_size = len(train_data) // num_teachers\n",
        "    print(\"教師の数\"+str(num_teachers))\n",
        "    print(\"悪い教師の数\"+str(num_malicious))\n",
        "    print(\"1教師あたりのデータサイズ\" + str(data_size))\n",
        "    print(\"バッチサイズ\"+str(batch_size))\n",
        "    print(\"サブセットの数\"+str(data_size / batch_size))\n",
        "    print(\"サブセットの数:1教師あたりのデータサイズ÷バッチサイズ:\" + str(data_size / batch_size))\n",
        "    # データ総数分くりかえす\n",
        "    for i in range(data_size):\n",
        "        # teacher ごとにデータを割り振る\n",
        "        indices = list(range(i*data_size, (i+1)*data_size))\n",
        "        subset_data = Subset(train_data, indices)\n",
        "        loader = torch.utils.data.DataLoader(subset_data, batch_size=batch_size, shuffle=True)\n",
        "        teacher_loaders.append(loader)\n",
        "    # 教師用分類器を戻す    \n",
        "    return teacher_loaders\n",
        "# teacher_loders教師用データ分類器の宣言\n",
        "teacher_loaders = get_data_loaders(train_data, num_teachers)"
      ],
      "metadata": {
        "id": "nbnG0hm6o82y",
        "colab": {
          "base_uri": "https://localhost:8080/",
          "height": 225,
          "referenced_widgets": [
            "6f0c62ae51a443d484f27982982e8b69",
            "0aceae81533547b0a2daecfaba464d04",
            "f7e092d4c75f444e8116b4fa1167f846",
            "8f29f217364e434ea78670ee630c956a",
            "5f7f7e5e159c483b902806696a676a28",
            "e4ac0278ffd34b0fadc41a4f3372e842",
            "47ef6eeeccd1453e913f1806c644574a",
            "c776b5b3ff0a45e69ecc171361135e87",
            "5ed5399ad75c4d2d8089f1155f7abd6d",
            "9e94be71ad5f4338a73c5f18f5ee83f5",
            "408da8595692447682fd13f5b8dbfdda",
            "6b1a0b7957cb433cb4f523ff34b1b227",
            "807592ca541047988216f8ee71c6d100",
            "d2648980a1554a46a09ad5dc1ee6f52f",
            "9d23bcbab6ca407dba444d8e36f5cd80",
            "b1d82b52d9d04baf8b1eb4ce97abc798",
            "10c420fa62104cbf82be550c231cda3f",
            "3a8389284358407e9e5eb12b490aa9fd",
            "44dfe2e934e441da813d2d1083b233e3",
            "1be918487ed5400fb5f2e2de4952a169",
            "e29904a41d3f427cbcf7281072391f02",
            "53f648c661564c2ba3baaf8af7398f1a"
          ]
        },
        "outputId": "ecfdcc91-e5ad-4236-a998-c95eff11dc87"
      },
      "execution_count": null,
      "outputs": [
        {
          "output_type": "stream",
          "name": "stdout",
          "text": [
            "Downloading http://ufldl.stanford.edu/housenumbers/train_32x32.mat to datasets/SVHN/train/train_32x32.mat\n"
          ]
        },
        {
          "output_type": "display_data",
          "data": {
            "application/vnd.jupyter.widget-view+json": {
              "model_id": "6f0c62ae51a443d484f27982982e8b69",
              "version_minor": 0,
              "version_major": 2
            },
            "text/plain": [
              "  0%|          | 0/182040794 [00:00<?, ?it/s]"
            ]
          },
          "metadata": {}
        },
        {
          "output_type": "stream",
          "name": "stdout",
          "text": [
            "Downloading http://ufldl.stanford.edu/housenumbers/test_32x32.mat to datasets/SVHN/test/test_32x32.mat\n"
          ]
        },
        {
          "output_type": "display_data",
          "data": {
            "application/vnd.jupyter.widget-view+json": {
              "model_id": "6b1a0b7957cb433cb4f523ff34b1b227",
              "version_minor": 0,
              "version_major": 2
            },
            "text/plain": [
              "  0%|          | 0/64275384 [00:00<?, ?it/s]"
            ]
          },
          "metadata": {}
        },
        {
          "output_type": "stream",
          "name": "stdout",
          "text": [
            "教師の数10\n",
            "悪い教師の数4\n",
            "1教師あたりのデータサイズ7325\n",
            "バッチサイズ64\n",
            "サブセットの数114.453125\n",
            "サブセットの数:1教師あたりのデータサイズ÷バッチサイズ:114.453125\n"
          ]
        }
      ]
    },
    {
      "cell_type": "code",
      "source": [
        "# 各TeacherのCNNを構築\n",
        "# Define the teacher models and train them by defining a cnn\n",
        "import torch.nn as nn\n",
        "import torch.nn.functional as F\n",
        "# 最適化\n",
        "import torch.optim as optim\n",
        "\n",
        "# CNNsの構築\n",
        "# ネットワーク（classifier）をクラスとして作成、nn.Modulesを継承\n",
        "class Classifier(nn.Module):\n",
        "    # コンストラクタ\n",
        "    def __init__(self):\n",
        "        # nn.module内の_init_()を起動\n",
        "        super().__init__()\n",
        "        #self.は不変、convolutionやfully connectなどの学習に必要なパラメータを保持したいもの\n",
        "        # 1D畳み込み\n",
        "        self.conv1 = nn.Conv2d(3, 10, kernel_size=5)\n",
        "        # convolution (畳み込み)の定義（入力チャンネル数？、畳み込み後チャンネル数、正方形フィルタ） \n",
        "        # 2D畳み込み\n",
        "        self.conv2 = nn.Conv2d(10, 20, kernel_size=5)\n",
        "        # 2D特徴マップをランダムに0にする\n",
        "        self.conv2_drop = nn.Dropout2d()\n",
        "        #全結合層を定義する\n",
        "        #fc1の第一引数は、チャネル数*最後のプーリング層の出力のマップのサイズ=特徴量の数\n",
        "        # fully connectの定義（入力のサイズ（ベクトル）、出力後のベクトル）\n",
        "        self.fc1 = nn.Linear(5*10*10, 50)\n",
        "        self.fc2 = nn.Linear(50, 10)\n",
        "    # 実際の処理、引数xがネットワークに対しての入力data、dataloaderから取得\n",
        "    def forward(self, x):\n",
        "        # 入力→畳み込み層1→活性化関数(ReLU)→プーリング層1(2*2)→出力\n",
        "        x = F.relu(F.max_pool2d(self.conv1(x), 2))\n",
        "        #入力→畳み込み層2→活性化関数(ReLU)→プーリング層2(2*2)→出力\n",
        "        x = F.relu(F.max_pool2d(self.conv2_drop(self.conv2(x)), 2))\n",
        "        #　\n",
        "        x = x.view(x.size(0), 5*10*10)\n",
        "        #入力→全結合層2→活性化関数(ReLU)→出力\n",
        "        x = F.relu(self.fc1(x))\n",
        "        # モデルが訓練中か推論中か、training属性\n",
        "        x = F.dropout(x, training=self.training)\n",
        "        #入力→全結合層2→出力\n",
        "        x = self.fc2(x)\n",
        "        # xが小さすぎて0を返すのを防ぐために対数とる\n",
        "        return F.log_softmax(x, dim=-1)\n",
        "\n",
        "class Classifier_small(nn.Module):\n",
        "    # コンストラクタ\n",
        "    def __init__(self):\n",
        "        # nn.module内の_init_()を起動\n",
        "        super().__init__()\n",
        "        #self.は不変、convolutionやfully connectなどの学習に必要なパラメータを保持したいもの\n",
        "        # 1D畳み込み\n",
        "        self.conv1 = nn.Conv2d(3, 1, kernel_size=5)\n",
        "        # convolution (畳み込み)の定義（入力チャンネル数？、畳み込み後チャンネル数、正方形フィルタ） \n",
        "        # 2D畳み込み\n",
        "        self.conv2 = nn.Conv2d(1, 20, kernel_size=5)\n",
        "        # 2D特徴マップをランダムに0にする\n",
        "        self.conv2_drop = nn.Dropout2d()\n",
        "        #全結合層を定義する\n",
        "        #fc1の第一引数は、チャネル数*最後のプーリング層の出力のマップのサイズ=特徴量の数\n",
        "        # fully connectの定義（入力のサイズ（ベクトル）、出力後のベクトル）\n",
        "        self.fc1 = nn.Linear(5*10*10, 5)\n",
        "        self.fc2 = nn.Linear(5, 10)\n",
        "    # 実際の処理、引数xがネットワークに対しての入力data、dataloaderから取得\n",
        "    def forward(self, x):\n",
        "        # 入力→畳み込み層1→活性化関数(ReLU)→プーリング層1(2*2)→出力\n",
        "        x = F.relu(F.max_pool2d(self.conv1(x), 2))\n",
        "        #入力→畳み込み層2→活性化関数(ReLU)→プーリング層2(2*2)→出力\n",
        "        x = F.relu(F.max_pool2d(self.conv2_drop(self.conv2(x)), 2))\n",
        "        #　\n",
        "        x = x.view(x.size(0), 5*10*10)\n",
        "        #入力→全結合層2→活性化関数(ReLU)→出力\n",
        "        x = F.relu(self.fc1(x))\n",
        "        # モデルが訓練中か推論中か、training属性\n",
        "        x = F.dropout(x, training=self.training)\n",
        "        #入力→全結合層2→出力\n",
        "        x = self.fc2(x)\n",
        "        # xが小さすぎて0を返すのを防ぐために対数とる\n",
        "        return F.log_softmax(x, dim=-1)"
      ],
      "metadata": {
        "id": "XaVSHtLaqStG"
      },
      "execution_count": null,
      "outputs": []
    },
    {
      "cell_type": "code",
      "source": [
        "# 各Teacherが学習モデルを作る\n",
        "from tqdm import tqdm\n",
        "\n",
        "# Defining the train and predict functions\n",
        "# 学習と予測関数\n",
        "# 学習の関数\n",
        "def train(model, trainloader, criterion, optimizer, epochs=10, is_malicious=False):\n",
        "    # 損失値の宣言\n",
        "    running_loss = 0\n",
        "    # エポック数だけ学習する \n",
        "    for e in tqdm(range(epochs)):\n",
        "        model.train()\n",
        "        # trainloaderからイテレートされたdataはimage, labelsという（配列？）なので分解      \n",
        "        for images, labels in trainloader:\n",
        "            images = images.to(\"cuda\")\n",
        "            labels = labels.to(\"cuda\")\n",
        "            if is_malicious:\n",
        "                images *= 0.1\n",
        "                labels = torch.randint(0, 10, (len(labels), )).to(\"cuda\")\n",
        "            # 勾配の初期化\n",
        "            optimizer.zero_grad()\n",
        "            # \n",
        "            output = model.forward(images)\n",
        "            # 損失関数の計算\n",
        "            loss = criterion(output, labels)\n",
        "            # 勾配の計算（誤差伝搬）\n",
        "            loss.backward()\n",
        "            # 重みの更新（最適化）\n",
        "            optimizer.step()\n",
        "            # 損失値\n",
        "            running_loss += loss.item()\n",
        "\n",
        "\n",
        "# モデルの訓練\n",
        "def train_models(num_teachers):\n",
        "    # モデルのリストを作る\n",
        "    models = []\n",
        "    # 教師の数だけループ\n",
        "    for i in range(num_teachers):\n",
        "        print(f\"{i}-th client training...\")\n",
        "        # クラスに突っ込む？\n",
        "        model = Classifier().to(\"cuda\")\n",
        "        # 交差エントロピー（NNの出力をマイナス、重みの増加）\n",
        "        criterion = nn.NLLLoss()\n",
        "        optimizer = optim.Adam(model.parameters(), lr=0.003)\n",
        "        train(model, teacher_loaders[i], criterion, optimizer, is_malicious = (i < num_malicious))\n",
        "        models.append(model)\n",
        "    return models\n",
        "\n",
        "models = train_models(num_teachers)"
      ],
      "metadata": {
        "colab": {
          "base_uri": "https://localhost:8080/"
        },
        "id": "YDvskTAFqXGV",
        "outputId": "6d84a6bf-6b4e-44c8-c183-dd095aac82fd"
      },
      "execution_count": null,
      "outputs": [
        {
          "output_type": "stream",
          "name": "stdout",
          "text": [
            "0-th client training...\n"
          ]
        },
        {
          "output_type": "stream",
          "name": "stderr",
          "text": [
            "100%|██████████| 10/10 [00:30<00:00,  3.08s/it]\n"
          ]
        },
        {
          "output_type": "stream",
          "name": "stdout",
          "text": [
            "1-th client training...\n"
          ]
        },
        {
          "output_type": "stream",
          "name": "stderr",
          "text": [
            "100%|██████████| 10/10 [00:27<00:00,  2.73s/it]\n"
          ]
        },
        {
          "output_type": "stream",
          "name": "stdout",
          "text": [
            "2-th client training...\n"
          ]
        },
        {
          "output_type": "stream",
          "name": "stderr",
          "text": [
            "100%|██████████| 10/10 [00:27<00:00,  2.73s/it]\n"
          ]
        },
        {
          "output_type": "stream",
          "name": "stdout",
          "text": [
            "3-th client training...\n"
          ]
        },
        {
          "output_type": "stream",
          "name": "stderr",
          "text": [
            "100%|██████████| 10/10 [00:27<00:00,  2.73s/it]\n"
          ]
        },
        {
          "output_type": "stream",
          "name": "stdout",
          "text": [
            "4-th client training...\n"
          ]
        },
        {
          "output_type": "stream",
          "name": "stderr",
          "text": [
            "100%|██████████| 10/10 [00:26<00:00,  2.67s/it]\n"
          ]
        },
        {
          "output_type": "stream",
          "name": "stdout",
          "text": [
            "5-th client training...\n"
          ]
        },
        {
          "output_type": "stream",
          "name": "stderr",
          "text": [
            "100%|██████████| 10/10 [00:26<00:00,  2.66s/it]\n"
          ]
        },
        {
          "output_type": "stream",
          "name": "stdout",
          "text": [
            "6-th client training...\n"
          ]
        },
        {
          "output_type": "stream",
          "name": "stderr",
          "text": [
            "100%|██████████| 10/10 [00:26<00:00,  2.67s/it]\n"
          ]
        },
        {
          "output_type": "stream",
          "name": "stdout",
          "text": [
            "7-th client training...\n"
          ]
        },
        {
          "output_type": "stream",
          "name": "stderr",
          "text": [
            "100%|██████████| 10/10 [00:26<00:00,  2.68s/it]\n"
          ]
        },
        {
          "output_type": "stream",
          "name": "stdout",
          "text": [
            "8-th client training...\n"
          ]
        },
        {
          "output_type": "stream",
          "name": "stderr",
          "text": [
            "100%|██████████| 10/10 [00:27<00:00,  2.70s/it]\n"
          ]
        },
        {
          "output_type": "stream",
          "name": "stdout",
          "text": [
            "9-th client training...\n"
          ]
        },
        {
          "output_type": "stream",
          "name": "stderr",
          "text": [
            "100%|██████████| 10/10 [00:27<00:00,  2.71s/it]\n"
          ]
        }
      ]
    },
    {
      "cell_type": "code",
      "source": [
        "# Student用にデータをロードする\n",
        "student_train_data = Subset(test_data, list(range(9000)))\n",
        "student_test_data = Subset(test_data, list(range(9000, 10000)))\n",
        "\n",
        "student_train_loader = torch.utils.data.DataLoader(student_train_data, batch_size=batch_size)\n",
        "student_test_loader = torch.utils.data.DataLoader(student_test_data, batch_size=batch_size)"
      ],
      "metadata": {
        "id": "fCsV48hhM6PG"
      },
      "execution_count": null,
      "outputs": []
    },
    {
      "cell_type": "code",
      "source": [
        "# モデルの性能チェック\n",
        "images, labels = next(iter(teacher_loaders[0]))\n",
        "print(torch.argmax(models[0](images.cuda()), dim=-1))\n",
        "print(labels)"
      ],
      "metadata": {
        "colab": {
          "base_uri": "https://localhost:8080/"
        },
        "id": "8ywiuR6sZyeV",
        "outputId": "d78b92f6-0dd3-4269-beed-b235c77e640b"
      },
      "execution_count": null,
      "outputs": [
        {
          "output_type": "stream",
          "name": "stdout",
          "text": [
            "tensor([7, 7, 2, 7, 7, 7, 7, 7, 7, 7, 7, 7, 7, 7, 3, 7, 7, 8, 7, 7, 7, 8, 3, 7,\n",
            "        7, 7, 3, 7, 7, 5, 7, 2, 7, 1, 7, 7, 7, 1, 0, 3, 7, 3, 7, 2, 7, 7, 7, 7,\n",
            "        7, 7, 7, 7, 2, 7, 7, 7, 7, 2, 7, 7, 1, 7, 7, 7], device='cuda:0')\n",
            "tensor([1, 8, 1, 2, 1, 4, 6, 8, 6, 0, 1, 9, 5, 6, 2, 3, 1, 9, 9, 3, 0, 9, 7, 1,\n",
            "        9, 0, 9, 9, 2, 5, 2, 1, 1, 2, 2, 3, 4, 7, 4, 6, 3, 8, 7, 1, 2, 9, 1, 9,\n",
            "        3, 4, 5, 1, 6, 8, 6, 8, 1, 4, 5, 9, 9, 2, 8, 3])\n"
          ]
        }
      ]
    },
    {
      "cell_type": "code",
      "source": [
        "# Next by combining the predictions of the Teacher models \n",
        "# we will generate the Aggregated Teacher and Student labels\n",
        "\n",
        "import numpy as np\n",
        "\n",
        "# predict関数（モデル、分類器）\n",
        "# これの役割\n",
        "def predict(model, dataloader):\n",
        "    # テンソルを返す、Dタイプのデータ型返す\n",
        "    outputs = torch.zeros(0, dtype=torch.long).to(\"cuda\")\n",
        "    # バッチ間の平均や分散を計算\n",
        "    model.eval()\n",
        "\n",
        "    # 分類器の中の画像とラベルのループ、詳細まだ\n",
        "    for images, labels in dataloader:\n",
        "        images = images.to(\"cuda\")\n",
        "        labels = labels.to(\"cuda\")\n",
        "        output = model.forward(images)\n",
        "        ps = torch.argmax(torch.exp(output), dim=1)\n",
        "        outputs = torch.cat((outputs, ps))\n",
        "        \n",
        "    return outputs\n",
        "\n",
        "epsilon = 0.5\n",
        "# 教師の統合関数（モデル、分類器、ε?何）\n",
        "def aggregated_teacher(models, dataloader, epsilon):\n",
        "    # テンソルを返す？\n",
        "    preds = torch.torch.zeros((len(models), 9000), dtype=torch.long)\n",
        "    # 要素のインデックスと要素\n",
        "    for i, model in enumerate(models):\n",
        "        results = predict(model, dataloader)\n",
        "        preds[i] = results\n",
        "    \n",
        "    # \n",
        "    labels = np.array([]).astype(int)\n",
        "    for image_preds in np.transpose(preds):\n",
        "        label_counts = np.bincount(image_preds, minlength=10)\n",
        "        beta = 1 / epsilon\n",
        "\n",
        "        for i in range(len(label_counts)):\n",
        "            label_counts[i] += np.random.laplace(0, beta, 1)\n",
        "\n",
        "        new_label = np.argmax(label_counts)\n",
        "        labels = np.append(labels, new_label)\n",
        "    \n",
        "    return preds.numpy(), labels\n",
        "\n",
        "\n",
        "teacher_models = models\n",
        "\n",
        "# 悪い教師も混ざっている場合\n",
        "# preds, student_labels = aggregated_teacher(teacher_models, student_train_loader, epsilon)\n",
        "\n",
        "# いいteacherだけ使った場合（本来、誰が良いか、誰が悪いかわからないので、これはできない。誰が悪いかを見つける必要がある）\n",
        "\n",
        "# teacher_models[num_malicious:]  -> teacher_models[4] ... teacher_models[9]  で、いいteacherが合計9-4+1=6人\n",
        "#  teacher_models[num_malicious:num_malicious * 2] =  teacher_models[4:4 * 2] =  teacher_models[4:8] = teacher[4] .. teacher[7] でいいteachcerが4人\n",
        "tm2 = teacher_models[num_malicious:] + teacher_models[num_malicious:num_malicious * 2]\n",
        "preds2, student_labels2 = aggregated_teacher(tm2, student_train_loader, epsilon)\n"
      ],
      "metadata": {
        "id": "dmfhfFRxs02B"
      },
      "execution_count": null,
      "outputs": []
    },
    {
      "cell_type": "code",
      "source": [
        "print(np.bincount(preds[:, 2], minlength=10))  # 悪いの混ざってる\n",
        "print(np.bincount(preds2[:, 2], minlength=10))  # 混ざってない\n",
        "\n",
        "# この辺をちょっとデータ解析してみましょう。\n",
        "# 多数決で得られた結果と違う結果を出してしまった回数、をteacherごとに出してみるとどうか？　→（多数決といつも違うことをいっている = 間違っている可能性が高い）"
      ],
      "metadata": {
        "colab": {
          "base_uri": "https://localhost:8080/"
        },
        "id": "AAec4ZJidyE2",
        "outputId": "22ee64b1-5c7b-4b1a-850e-792a8cbaca3e"
      },
      "execution_count": null,
      "outputs": [
        {
          "output_type": "stream",
          "name": "stdout",
          "text": [
            "[0 6 0 1 0 0 0 2 0 1]\n",
            "[ 0 10  0  0  0  0  0  0  0  0]\n"
          ]
        }
      ]
    },
    {
      "cell_type": "code",
      "source": [
        "# 5人より大勢が同じ答えを出す割合\n",
        "print((np.array([np.bincount(p, minlength=10).max() for p in preds.T]) > 5).sum() / len(preds.T))\n",
        "\n",
        "# 正しいラベルを与える人を10人に水増ししたうえで、5人より大勢が同じ答えを出す割合\n",
        "print((np.array([np.bincount(p, minlength=10).max() for p in preds2.T]) > 5).sum() / len(preds2.T))"
      ],
      "metadata": {
        "colab": {
          "base_uri": "https://localhost:8080/"
        },
        "id": "3CPTLjgsfrwm",
        "outputId": "aab21ec1-4928-47a6-8926-f9d32835012b"
      },
      "execution_count": null,
      "outputs": [
        {
          "output_type": "stream",
          "name": "stdout",
          "text": [
            "0.6834444444444444\n",
            "0.9005555555555556\n"
          ]
        }
      ]
    },
    {
      "cell_type": "code",
      "source": [
        "# Now by using the labels generated previously we will create the Student model and train it\n",
        "\n",
        "def student_loader(student_train_loader, labels):\n",
        "    for i, (data, _) in enumerate(iter(student_train_loader)):\n",
        "        yield data, torch.from_numpy(labels[i*len(data): (i+1)*len(data)])\n",
        "\n",
        "student_model = Classifier().to(\"cuda\")\n",
        "criterion = nn.NLLLoss()\n",
        "optimizer = optim.Adam(student_model.parameters(), lr=0.003)\n",
        "#エポック数\n",
        "epochs = 20\n",
        "steps = 0\n",
        "running_loss = 0\n",
        "for e in tqdm(range(epochs)):\n",
        "    student_model.train()\n",
        "    train_loader = student_loader(student_train_loader, student_labels2)\n",
        "    for images, labels in train_loader:\n",
        "        images = images.to(\"cuda\")\n",
        "        labels = labels.to(\"cuda\")\n",
        "        steps += 1\n",
        "        \n",
        "        optimizer.zero_grad()\n",
        "        output = student_model.forward(images)\n",
        "        loss = criterion(output, labels)\n",
        "        loss.backward()\n",
        "        optimizer.step()\n",
        "\n",
        "        running_loss += loss.item()\n",
        "        \n",
        "        if steps % 50 == 0:\n",
        "            test_loss = 0\n",
        "            accuracy = 0\n",
        "            student_model.eval()\n",
        "            with torch.no_grad():\n",
        "                for images, labels in student_test_loader:\n",
        "                    images = images.to(\"cuda\")\n",
        "                    labels = labels.to(\"cuda\")\n",
        "                    log_ps = student_model(images)\n",
        "                    test_loss += criterion(log_ps, labels).item()\n",
        "                    \n",
        "                    ps = torch.exp(log_ps)\n",
        "                    top_p, top_class = ps.topk(1, dim=1)\n",
        "                    equals = top_class == labels.view(*top_class.shape)\n",
        "                    accuracy += torch.mean(equals.type(torch.FloatTensor))\n",
        "            student_model.train()\n",
        "            print(\"Epoch: {}/{}.. \".format(e+1, epochs),\n",
        "                  \"Train Loss: {:.3f}.. \".format(running_loss/len(student_train_loader)),\n",
        "                  \"Test Loss: {:.3f}.. \".format(test_loss/len(student_test_loader)),\n",
        "                  \"Accuracy: {:.3f}\".format(accuracy/len(student_test_loader)))\n",
        "            running_loss = 0"
      ],
      "metadata": {
        "id": "m9n8NEuEbmIK",
        "colab": {
          "base_uri": "https://localhost:8080/"
        },
        "outputId": "77bbe5d3-3545-45d5-bbf1-db423bdcab3b"
      },
      "execution_count": null,
      "outputs": [
        {
          "output_type": "stream",
          "name": "stderr",
          "text": [
            "\r  0%|          | 0/20 [00:00<?, ?it/s]"
          ]
        },
        {
          "output_type": "stream",
          "name": "stdout",
          "text": [
            "Epoch: 1/20..  Train Loss: 0.800..  Test Loss: 2.207..  Accuracy: 0.216\n",
            "Epoch: 1/20..  Train Loss: 0.768..  Test Loss: 2.065..  Accuracy: 0.294\n"
          ]
        },
        {
          "output_type": "stream",
          "name": "stderr",
          "text": [
            "\r  5%|▌         | 1/20 [00:04<01:17,  4.05s/it]"
          ]
        },
        {
          "output_type": "stream",
          "name": "stdout",
          "text": [
            "Epoch: 2/20..  Train Loss: 0.725..  Test Loss: 1.869..  Accuracy: 0.400\n",
            "Epoch: 2/20..  Train Loss: 0.660..  Test Loss: 1.494..  Accuracy: 0.552\n",
            "Epoch: 2/20..  Train Loss: 0.591..  Test Loss: 1.261..  Accuracy: 0.617\n"
          ]
        },
        {
          "output_type": "stream",
          "name": "stderr",
          "text": [
            "\r 10%|█         | 2/20 [00:08<01:15,  4.21s/it]"
          ]
        },
        {
          "output_type": "stream",
          "name": "stdout",
          "text": [
            "Epoch: 3/20..  Train Loss: 0.581..  Test Loss: 1.173..  Accuracy: 0.678\n",
            "Epoch: 3/20..  Train Loss: 0.556..  Test Loss: 1.160..  Accuracy: 0.672\n",
            "Epoch: 3/20..  Train Loss: 0.525..  Test Loss: 1.186..  Accuracy: 0.669\n"
          ]
        },
        {
          "output_type": "stream",
          "name": "stderr",
          "text": [
            "\r 15%|█▌        | 3/20 [00:12<01:11,  4.20s/it]"
          ]
        },
        {
          "output_type": "stream",
          "name": "stdout",
          "text": [
            "Epoch: 4/20..  Train Loss: 0.523..  Test Loss: 1.075..  Accuracy: 0.717\n",
            "Epoch: 4/20..  Train Loss: 0.502..  Test Loss: 1.051..  Accuracy: 0.720\n",
            "Epoch: 4/20..  Train Loss: 0.493..  Test Loss: 1.061..  Accuracy: 0.712\n"
          ]
        },
        {
          "output_type": "stream",
          "name": "stderr",
          "text": [
            "\r 20%|██        | 4/20 [00:16<01:07,  4.21s/it]"
          ]
        },
        {
          "output_type": "stream",
          "name": "stdout",
          "text": [
            "Epoch: 5/20..  Train Loss: 0.508..  Test Loss: 1.053..  Accuracy: 0.727\n",
            "Epoch: 5/20..  Train Loss: 0.467..  Test Loss: 0.909..  Accuracy: 0.736\n"
          ]
        },
        {
          "output_type": "stream",
          "name": "stderr",
          "text": [
            "\r 25%|██▌       | 5/20 [00:21<01:03,  4.24s/it]"
          ]
        },
        {
          "output_type": "stream",
          "name": "stdout",
          "text": [
            "Epoch: 5/20..  Train Loss: 0.460..  Test Loss: 0.933..  Accuracy: 0.733\n",
            "Epoch: 6/20..  Train Loss: 0.502..  Test Loss: 0.935..  Accuracy: 0.737\n",
            "Epoch: 6/20..  Train Loss: 0.436..  Test Loss: 0.870..  Accuracy: 0.756\n"
          ]
        },
        {
          "output_type": "stream",
          "name": "stderr",
          "text": [
            "\r 30%|███       | 6/20 [00:25<00:57,  4.14s/it]"
          ]
        },
        {
          "output_type": "stream",
          "name": "stdout",
          "text": [
            "Epoch: 7/20..  Train Loss: 0.458..  Test Loss: 1.019..  Accuracy: 0.729\n",
            "Epoch: 7/20..  Train Loss: 0.472..  Test Loss: 0.872..  Accuracy: 0.748\n",
            "Epoch: 7/20..  Train Loss: 0.432..  Test Loss: 0.857..  Accuracy: 0.751\n"
          ]
        },
        {
          "output_type": "stream",
          "name": "stderr",
          "text": [
            "\r 35%|███▌      | 7/20 [00:29<00:54,  4.16s/it]"
          ]
        },
        {
          "output_type": "stream",
          "name": "stdout",
          "text": [
            "Epoch: 8/20..  Train Loss: 0.445..  Test Loss: 0.913..  Accuracy: 0.742\n",
            "Epoch: 8/20..  Train Loss: 0.445..  Test Loss: 0.897..  Accuracy: 0.731\n",
            "Epoch: 8/20..  Train Loss: 0.443..  Test Loss: 0.879..  Accuracy: 0.739\n"
          ]
        },
        {
          "output_type": "stream",
          "name": "stderr",
          "text": [
            "\r 40%|████      | 8/20 [00:33<00:50,  4.18s/it]"
          ]
        },
        {
          "output_type": "stream",
          "name": "stdout",
          "text": [
            "Epoch: 9/20..  Train Loss: 0.457..  Test Loss: 0.894..  Accuracy: 0.739\n",
            "Epoch: 9/20..  Train Loss: 0.458..  Test Loss: 0.854..  Accuracy: 0.750\n",
            "Epoch: 9/20..  Train Loss: 0.418..  Test Loss: 0.842..  Accuracy: 0.760\n"
          ]
        },
        {
          "output_type": "stream",
          "name": "stderr",
          "text": [
            "\r 45%|████▌     | 9/20 [00:37<00:46,  4.22s/it]"
          ]
        },
        {
          "output_type": "stream",
          "name": "stdout",
          "text": [
            "Epoch: 10/20..  Train Loss: 0.449..  Test Loss: 0.856..  Accuracy: 0.767\n",
            "Epoch: 10/20..  Train Loss: 0.430..  Test Loss: 0.854..  Accuracy: 0.754\n",
            "Epoch: 10/20..  Train Loss: 0.426..  Test Loss: 0.894..  Accuracy: 0.749\n"
          ]
        },
        {
          "output_type": "stream",
          "name": "stderr",
          "text": [
            "\r 50%|█████     | 10/20 [00:41<00:41,  4.19s/it]"
          ]
        },
        {
          "output_type": "stream",
          "name": "stdout",
          "text": [
            "Epoch: 11/20..  Train Loss: 0.451..  Test Loss: 0.834..  Accuracy: 0.757\n",
            "Epoch: 11/20..  Train Loss: 0.419..  Test Loss: 0.838..  Accuracy: 0.758\n"
          ]
        },
        {
          "output_type": "stream",
          "name": "stderr",
          "text": [
            "\r 55%|█████▌    | 11/20 [00:46<00:37,  4.19s/it]"
          ]
        },
        {
          "output_type": "stream",
          "name": "stdout",
          "text": [
            "Epoch: 11/20..  Train Loss: 0.412..  Test Loss: 0.813..  Accuracy: 0.772\n",
            "Epoch: 12/20..  Train Loss: 0.445..  Test Loss: 0.849..  Accuracy: 0.752\n",
            "Epoch: 12/20..  Train Loss: 0.410..  Test Loss: 0.813..  Accuracy: 0.754\n"
          ]
        },
        {
          "output_type": "stream",
          "name": "stderr",
          "text": [
            "\r 60%|██████    | 12/20 [00:50<00:32,  4.12s/it]"
          ]
        },
        {
          "output_type": "stream",
          "name": "stdout",
          "text": [
            "Epoch: 13/20..  Train Loss: 0.438..  Test Loss: 0.907..  Accuracy: 0.754\n",
            "Epoch: 13/20..  Train Loss: 0.430..  Test Loss: 0.778..  Accuracy: 0.776\n",
            "Epoch: 13/20..  Train Loss: 0.399..  Test Loss: 0.822..  Accuracy: 0.756\n"
          ]
        },
        {
          "output_type": "stream",
          "name": "stderr",
          "text": [
            "\r 65%|██████▌   | 13/20 [00:54<00:29,  4.16s/it]"
          ]
        },
        {
          "output_type": "stream",
          "name": "stdout",
          "text": [
            "Epoch: 14/20..  Train Loss: 0.434..  Test Loss: 0.817..  Accuracy: 0.757\n",
            "Epoch: 14/20..  Train Loss: 0.419..  Test Loss: 0.789..  Accuracy: 0.770\n",
            "Epoch: 14/20..  Train Loss: 0.409..  Test Loss: 0.831..  Accuracy: 0.757\n"
          ]
        },
        {
          "output_type": "stream",
          "name": "stderr",
          "text": [
            "\r 70%|███████   | 14/20 [00:58<00:25,  4.17s/it]"
          ]
        },
        {
          "output_type": "stream",
          "name": "stdout",
          "text": [
            "Epoch: 15/20..  Train Loss: 0.432..  Test Loss: 0.821..  Accuracy: 0.772\n",
            "Epoch: 15/20..  Train Loss: 0.417..  Test Loss: 0.832..  Accuracy: 0.763\n",
            "Epoch: 15/20..  Train Loss: 0.399..  Test Loss: 0.835..  Accuracy: 0.767\n"
          ]
        },
        {
          "output_type": "stream",
          "name": "stderr",
          "text": [
            "\r 75%|███████▌  | 15/20 [01:02<00:21,  4.21s/it]"
          ]
        },
        {
          "output_type": "stream",
          "name": "stdout",
          "text": [
            "Epoch: 16/20..  Train Loss: 0.436..  Test Loss: 0.826..  Accuracy: 0.764\n",
            "Epoch: 16/20..  Train Loss: 0.409..  Test Loss: 0.819..  Accuracy: 0.759\n"
          ]
        },
        {
          "output_type": "stream",
          "name": "stderr",
          "text": [
            "\r 80%|████████  | 16/20 [01:07<00:16,  4.24s/it]"
          ]
        },
        {
          "output_type": "stream",
          "name": "stdout",
          "text": [
            "Epoch: 16/20..  Train Loss: 0.400..  Test Loss: 0.848..  Accuracy: 0.744\n",
            "Epoch: 17/20..  Train Loss: 0.435..  Test Loss: 0.931..  Accuracy: 0.726\n",
            "Epoch: 17/20..  Train Loss: 0.393..  Test Loss: 0.790..  Accuracy: 0.764\n"
          ]
        },
        {
          "output_type": "stream",
          "name": "stderr",
          "text": [
            "\r 85%|████████▌ | 17/20 [01:10<00:12,  4.14s/it]"
          ]
        },
        {
          "output_type": "stream",
          "name": "stdout",
          "text": [
            "Epoch: 18/20..  Train Loss: 0.415..  Test Loss: 0.827..  Accuracy: 0.763\n",
            "Epoch: 18/20..  Train Loss: 0.416..  Test Loss: 0.864..  Accuracy: 0.755\n",
            "Epoch: 18/20..  Train Loss: 0.393..  Test Loss: 0.895..  Accuracy: 0.732\n"
          ]
        },
        {
          "output_type": "stream",
          "name": "stderr",
          "text": [
            "\r 90%|█████████ | 18/20 [01:15<00:08,  4.24s/it]"
          ]
        },
        {
          "output_type": "stream",
          "name": "stdout",
          "text": [
            "Epoch: 19/20..  Train Loss: 0.418..  Test Loss: 0.935..  Accuracy: 0.727\n",
            "Epoch: 19/20..  Train Loss: 0.414..  Test Loss: 0.825..  Accuracy: 0.761\n",
            "Epoch: 19/20..  Train Loss: 0.392..  Test Loss: 0.823..  Accuracy: 0.755\n"
          ]
        },
        {
          "output_type": "stream",
          "name": "stderr",
          "text": [
            "\r 95%|█████████▌| 19/20 [01:19<00:04,  4.27s/it]"
          ]
        },
        {
          "output_type": "stream",
          "name": "stdout",
          "text": [
            "Epoch: 20/20..  Train Loss: 0.420..  Test Loss: 0.811..  Accuracy: 0.769\n",
            "Epoch: 20/20..  Train Loss: 0.413..  Test Loss: 0.807..  Accuracy: 0.760\n",
            "Epoch: 20/20..  Train Loss: 0.394..  Test Loss: 0.803..  Accuracy: 0.768\n"
          ]
        },
        {
          "output_type": "stream",
          "name": "stderr",
          "text": [
            "100%|██████████| 20/20 [01:24<00:00,  4.21s/it]\n"
          ]
        }
      ]
    },
    {
      "cell_type": "code",
      "source": [
        "# Now we will perform PATE Analysis on the student labels generated \n",
        "# by the Aggregated Teacher\n",
        "from syft.frameworks.torch.dp import pate\n",
        "\n",
        "data_dep_eps, data_ind_eps = pate.perform_analysis(teacher_preds=preds, indices=student_labels, noise_eps=epsilon, delta=1e-5)\n",
        "print(\"Data Independent Epsilon:\", data_ind_eps)\n",
        "print(\"Data Dependent Epsilon:\", data_dep_eps)"
      ],
      "metadata": {
        "id": "-TkWCmg5dV4N",
        "colab": {
          "base_uri": "https://localhost:8080/",
          "height": 389
        },
        "outputId": "449e3f8e-ac72-450c-d29b-13370383e6ed"
      },
      "execution_count": null,
      "outputs": [
        {
          "output_type": "error",
          "ename": "ModuleNotFoundError",
          "evalue": "ignored",
          "traceback": [
            "\u001b[0;31m---------------------------------------------------------------------------\u001b[0m",
            "\u001b[0;31mModuleNotFoundError\u001b[0m                       Traceback (most recent call last)",
            "\u001b[0;32m<ipython-input-49-f2a6ec381631>\u001b[0m in \u001b[0;36m<module>\u001b[0;34m()\u001b[0m\n\u001b[1;32m      1\u001b[0m \u001b[0;31m# Now we will perform PATE Analysis on the student labels generated\u001b[0m\u001b[0;34m\u001b[0m\u001b[0;34m\u001b[0m\u001b[0;34m\u001b[0m\u001b[0m\n\u001b[1;32m      2\u001b[0m \u001b[0;31m# by the Aggregated Teacher\u001b[0m\u001b[0;34m\u001b[0m\u001b[0;34m\u001b[0m\u001b[0;34m\u001b[0m\u001b[0m\n\u001b[0;32m----> 3\u001b[0;31m \u001b[0;32mfrom\u001b[0m \u001b[0msyft\u001b[0m\u001b[0;34m.\u001b[0m\u001b[0mframeworks\u001b[0m\u001b[0;34m.\u001b[0m\u001b[0mtorch\u001b[0m\u001b[0;34m.\u001b[0m\u001b[0mdp\u001b[0m \u001b[0;32mimport\u001b[0m \u001b[0mpate\u001b[0m\u001b[0;34m\u001b[0m\u001b[0;34m\u001b[0m\u001b[0m\n\u001b[0m\u001b[1;32m      4\u001b[0m \u001b[0;34m\u001b[0m\u001b[0m\n\u001b[1;32m      5\u001b[0m \u001b[0mdata_dep_eps\u001b[0m\u001b[0;34m,\u001b[0m \u001b[0mdata_ind_eps\u001b[0m \u001b[0;34m=\u001b[0m \u001b[0mpate\u001b[0m\u001b[0;34m.\u001b[0m\u001b[0mperform_analysis\u001b[0m\u001b[0;34m(\u001b[0m\u001b[0mteacher_preds\u001b[0m\u001b[0;34m=\u001b[0m\u001b[0mpreds\u001b[0m\u001b[0;34m,\u001b[0m \u001b[0mindices\u001b[0m\u001b[0;34m=\u001b[0m\u001b[0mstudent_labels\u001b[0m\u001b[0;34m,\u001b[0m \u001b[0mnoise_eps\u001b[0m\u001b[0;34m=\u001b[0m\u001b[0mepsilon\u001b[0m\u001b[0;34m,\u001b[0m \u001b[0mdelta\u001b[0m\u001b[0;34m=\u001b[0m\u001b[0;36m1e-5\u001b[0m\u001b[0;34m)\u001b[0m\u001b[0;34m\u001b[0m\u001b[0;34m\u001b[0m\u001b[0m\n",
            "\u001b[0;31mModuleNotFoundError\u001b[0m: No module named 'syft.frameworks'",
            "",
            "\u001b[0;31m---------------------------------------------------------------------------\u001b[0;32m\nNOTE: If your import is failing due to a missing package, you can\nmanually install dependencies using either !pip or !apt.\n\nTo view examples of installing some common dependencies, click the\n\"Open Examples\" button below.\n\u001b[0;31m---------------------------------------------------------------------------\u001b[0m\n"
          ],
          "errorDetails": {
            "actions": [
              {
                "action": "open_url",
                "actionText": "Open Examples",
                "url": "/notebooks/snippets/importing_libraries.ipynb"
              }
            ]
          }
        }
      ]
    },
    {
      "cell_type": "code",
      "source": [
        ""
      ],
      "metadata": {
        "id": "-BcSOKPrQxJs"
      },
      "execution_count": null,
      "outputs": []
    }
  ]
}